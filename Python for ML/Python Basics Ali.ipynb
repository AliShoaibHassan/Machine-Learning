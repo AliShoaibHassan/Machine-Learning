{
 "cells": [
  {
   "cell_type": "code",
   "execution_count": 10,
   "id": "4ecf6cf7-c1aa-4be7-9075-b40d727433c9",
   "metadata": {},
   "outputs": [],
   "source": [
    "num = 12\n",
    "name = \"Ali\""
   ]
  },
  {
   "cell_type": "markdown",
   "id": "67ef0fec-6fd4-42af-8767-d39c3665f69b",
   "metadata": {},
   "source": [
    "<h2>Formatting Strings</h2>\n",
    "\n",
    "Ensure that the \".format\" is entered iside the parantheses of the print!"
   ]
  },
  {
   "cell_type": "code",
   "execution_count": 8,
   "id": "cde8aa13-a5fb-470c-8774-cb273aef849d",
   "metadata": {},
   "outputs": [
    {
     "name": "stdout",
     "output_type": "stream",
     "text": [
      "My number is 12 and my name is Ali.\n"
     ]
    }
   ],
   "source": [
    "print(\"My number is {} and my name is {}.\".format(num,name))"
   ]
  },
  {
   "cell_type": "code",
   "execution_count": 18,
   "id": "85a14252-54ae-4338-8bb2-963e086ee7f1",
   "metadata": {},
   "outputs": [
    {
     "name": "stdout",
     "output_type": "stream",
     "text": [
      "My name is Ali and my number is 12. Rewriting my name again which is Ali\n"
     ]
    }
   ],
   "source": [
    "print(\"My name is {one} and my number is {two}. Rewriting my name again which is {one}\".format(one = name , two = num))"
   ]
  },
  {
   "cell_type": "code",
   "execution_count": 22,
   "id": "3c8c8806-cba8-43e9-b339-782d7387063f",
   "metadata": {},
   "outputs": [
    {
     "data": {
      "text/plain": [
       "'i'"
      ]
     },
     "execution_count": 22,
     "metadata": {},
     "output_type": "execute_result"
    }
   ],
   "source": [
    "name[2]"
   ]
  },
  {
   "cell_type": "code",
   "execution_count": 26,
   "id": "38adf2cf-d2a5-46d3-8449-191d2150b27a",
   "metadata": {},
   "outputs": [],
   "source": [
    "rando = \"AliShoaibHasan\""
   ]
  },
  {
   "cell_type": "code",
   "execution_count": 28,
   "id": "c6ebb6a7-03db-4825-b635-7aa8d89a7822",
   "metadata": {},
   "outputs": [
    {
     "data": {
      "text/plain": [
       "'AliShoaibHasan'"
      ]
     },
     "execution_count": 28,
     "metadata": {},
     "output_type": "execute_result"
    }
   ],
   "source": [
    "rando[0:]"
   ]
  },
  {
   "cell_type": "code",
   "execution_count": 30,
   "id": "3b7598c7-75b2-4012-9c61-5a363f4aca08",
   "metadata": {},
   "outputs": [
    {
     "data": {
      "text/plain": [
       "''"
      ]
     },
     "execution_count": 30,
     "metadata": {},
     "output_type": "execute_result"
    }
   ],
   "source": [
    "rando[:0]"
   ]
  },
  {
   "cell_type": "code",
   "execution_count": 32,
   "id": "ecf15e3f-19b6-4d60-a4a8-81ab472a0169",
   "metadata": {},
   "outputs": [
    {
     "data": {
      "text/plain": [
       "'AliShoaib'"
      ]
     },
     "execution_count": 32,
     "metadata": {},
     "output_type": "execute_result"
    }
   ],
   "source": [
    "rando[0:9]"
   ]
  },
  {
   "cell_type": "code",
   "execution_count": 34,
   "id": "5f03f76b-aac2-4bf1-b5de-983e6dd57ebc",
   "metadata": {},
   "outputs": [],
   "source": [
    "#Accessing Nested List!\n",
    "\n",
    "my_list = [0,1,2, [4,5,[\"target 1\" , \"target 2\"]]]"
   ]
  },
  {
   "cell_type": "code",
   "execution_count": 36,
   "id": "05df126d-eade-46b2-a2fd-361b5952f152",
   "metadata": {},
   "outputs": [
    {
     "data": {
      "text/plain": [
       "'target 2'"
      ]
     },
     "execution_count": 36,
     "metadata": {},
     "output_type": "execute_result"
    }
   ],
   "source": [
    "my_list[3][2][1]\n"
   ]
  },
  {
   "cell_type": "code",
   "execution_count": 3,
   "id": "ff8c5af9-c660-4882-b298-a5aedcb5ed75",
   "metadata": {},
   "outputs": [
    {
     "name": "stdout",
     "output_type": "stream",
     "text": [
      "1\n",
      "2\n",
      "3\n",
      "4\n",
      "5\n",
      "6\n"
     ]
    }
   ],
   "source": [
    "list1 = [1,2,3,4,5,6]\n",
    "for num in list1:\n",
    "    print(\"{}\".format(num))"
   ]
  },
  {
   "cell_type": "code",
   "execution_count": 8,
   "id": "a576b59d-8604-4919-80d2-22ee9316c56e",
   "metadata": {},
   "outputs": [
    {
     "name": "stdout",
     "output_type": "stream",
     "text": [
      "3\n",
      "4\n",
      "5\n",
      "6\n"
     ]
    }
   ],
   "source": [
    "for x in range(3,7):\n",
    "    print(x)"
   ]
  },
  {
   "cell_type": "code",
   "execution_count": 10,
   "id": "deffe0fb-8f25-4ace-86fa-6a4cf8b36528",
   "metadata": {},
   "outputs": [
    {
     "data": {
      "text/plain": [
       "[0, 1, 2, 3, 4]"
      ]
     },
     "execution_count": 10,
     "metadata": {},
     "output_type": "execute_result"
    }
   ],
   "source": [
    "list(range(5))"
   ]
  },
  {
   "cell_type": "markdown",
   "id": "3a827cda-69d7-4c45-a98d-d34ceeb814a3",
   "metadata": {},
   "source": [
    "<h1>LIST COMPREHENSION</h1>\n",
    "This is done to save time and instead of using a for loop to store the values in the out array and update the list values we simply use the list comprehension method."
   ]
  },
  {
   "cell_type": "code",
   "execution_count": 17,
   "id": "3efc0ee9-cd2d-42d5-bdc0-a813308b5beb",
   "metadata": {},
   "outputs": [
    {
     "name": "stdout",
     "output_type": "stream",
     "text": [
      "[1, 4, 9, 16, 25, 36]\n"
     ]
    }
   ],
   "source": [
    "out = [num**2 for num in list1]\n",
    "print(out)"
   ]
  },
  {
   "cell_type": "markdown",
   "id": "d7a674d0-ab5c-43b3-b25d-adbca83480cd",
   "metadata": {},
   "source": [
    "<h1>FUNCTIONS</h1>"
   ]
  },
  {
   "cell_type": "code",
   "execution_count": 25,
   "id": "4d3899fc-e266-4d4c-a3c9-7a90bd069a1a",
   "metadata": {},
   "outputs": [],
   "source": [
    "def my_func(p1, p2):\n",
    "    print(p1+p2)\n",
    "    "
   ]
  },
  {
   "cell_type": "code",
   "execution_count": 27,
   "id": "79ea7982-a3eb-4184-b7c2-8c124494defc",
   "metadata": {},
   "outputs": [
    {
     "name": "stdout",
     "output_type": "stream",
     "text": [
      "6\n"
     ]
    }
   ],
   "source": [
    "my_func(3,3)"
   ]
  },
  {
   "cell_type": "markdown",
   "id": "66124ac3-f763-4257-a237-7f9e07278078",
   "metadata": {},
   "source": [
    "<h1>DOCSTRING</h1>"
   ]
  },
  {
   "cell_type": "code",
   "execution_count": 30,
   "id": "5bb1e35d-36db-47a9-aa68-a4a754cde204",
   "metadata": {},
   "outputs": [],
   "source": [
    "def func(num):\n",
    "    \"\"\"\n",
    "    THIS IS A MULTILINE DOCSTRING\n",
    "    A DOCSTRING EXPLAINS WHAT THE FUNCTION DOES\n",
    "    IT CAN BE CHECKED BY ENTERING SHIFT+TAB AFTER THE FUNCTION IS CALLED TO INFORM WHAT THE FUNCTION DOES WHICH MAKES IT SPECIAL FROM SIMPLE COMMENTS\n",
    "\n",
    "\n",
    "    THIS FUNCTION SQUARES THE NUMBER!\n",
    "    \"\"\"\n",
    "    return num**2"
   ]
  },
  {
   "cell_type": "code",
   "execution_count": 32,
   "id": "f0caea48-02dc-42a4-b37b-a5476874f060",
   "metadata": {},
   "outputs": [
    {
     "name": "stdout",
     "output_type": "stream",
     "text": [
      "9\n"
     ]
    }
   ],
   "source": [
    "out = func(3)\n",
    "print(out)"
   ]
  },
  {
   "cell_type": "markdown",
   "id": "84513c0c-c0d0-48aa-af3f-ff42f2894e0f",
   "metadata": {},
   "source": [
    "<h1>MAP METHOD WITH LAMBDA EXPRESSION</h1>\n",
    "\n",
    "The map method is a method which can be applied to all the elements inside the list. The lambda expression helps in wirting a short function in a much more shorter way. Lambda keyword mst be used and the name and return keyword of the function can be removed."
   ]
  },
  {
   "cell_type": "markdown",
   "id": "cc442fde-aa89-43c5-bf9e-50fd50e26ada",
   "metadata": {},
   "source": []
  },
  {
   "cell_type": "code",
   "execution_count": 4,
   "id": "165afa3b-b8be-4a2f-a751-50e38e6c1e91",
   "metadata": {},
   "outputs": [
    {
     "data": {
      "text/plain": [
       "<function __main__.<lambda>(var)>"
      ]
     },
     "execution_count": 4,
     "metadata": {},
     "output_type": "execute_result"
    }
   ],
   "source": [
    "lambda var:var*2"
   ]
  },
  {
   "cell_type": "code",
   "execution_count": 7,
   "id": "ab87440d-8411-4ca5-a346-a577414bbb24",
   "metadata": {},
   "outputs": [
    {
     "name": "stdout",
     "output_type": "stream",
     "text": [
      "[1, 2, 3, 4, 5, 6]\n",
      "[4, 8, 12, 16, 20, 24]\n"
     ]
    }
   ],
   "source": [
    "print(list1)\n",
    "list1 = list(map(lambda num: num*4, list1))\n",
    "print(list1)"
   ]
  },
  {
   "cell_type": "markdown",
   "id": "13ef1b3a-9ab8-44b5-9ebe-49cca92c3dbb",
   "metadata": {},
   "source": [
    "<h1>FILTER FUNCTION</h1>\n",
    "\n",
    "The filter function returns those values from the list which pass a certain test"
   ]
  },
  {
   "cell_type": "code",
   "execution_count": 14,
   "id": "bcb2f774-7a74-43c1-8079-b881fe15ca2a",
   "metadata": {},
   "outputs": [
    {
     "name": "stdout",
     "output_type": "stream",
     "text": [
      "[12, 16, 20, 24]\n"
     ]
    }
   ],
   "source": [
    "list2 = list(filter(lambda num : num>10, list1))\n",
    "print(list2)\n",
    "#The values greater then 10 from list1 will be stored in the list2"
   ]
  },
  {
   "cell_type": "markdown",
   "id": "8c815592-feb6-42fb-b6ce-b1fb58342eef",
   "metadata": {},
   "source": [
    "<h1>METHODS</h1>"
   ]
  },
  {
   "cell_type": "code",
   "execution_count": 27,
   "id": "f98b608f-06bb-45a8-a81a-b35edd73601b",
   "metadata": {},
   "outputs": [
    {
     "name": "stdout",
     "output_type": "stream",
     "text": [
      "my name is ali\n",
      "MY NAME IS ALI\n"
     ]
    }
   ],
   "source": [
    "s = \"My name is Ali\"\n",
    "\n",
    "print(s.lower())\n",
    "print(s.upper())\n"
   ]
  },
  {
   "cell_type": "markdown",
   "id": "4b726614-8275-432e-93df-dbc68ac66fd8",
   "metadata": {},
   "source": [
    "<h3>SPLIT METHOD</h3>"
   ]
  },
  {
   "cell_type": "code",
   "execution_count": 32,
   "id": "35e076b3-fb5e-43be-aef5-41a770ec418d",
   "metadata": {},
   "outputs": [
    {
     "data": {
      "text/plain": [
       "['Go', 'Arsenal!', 'What', 'a', 'win!', '#EPL', '#Arsenal']"
      ]
     },
     "execution_count": 32,
     "metadata": {},
     "output_type": "execute_result"
    }
   ],
   "source": [
    "tweet = \"Go Arsenal! What a win! #EPL #Arsenal\"\n",
    "tweet.split()\n",
    "#This removes all the whitespaces from the tweet and only the words are stored in the list"
   ]
  },
  {
   "cell_type": "code",
   "execution_count": 36,
   "id": "78ec29d3-937a-4cd3-a37d-daf3a12328df",
   "metadata": {},
   "outputs": [
    {
     "data": {
      "text/plain": [
       "['Go Arsenal! What a win! ', 'EPL ', 'Arsenal']"
      ]
     },
     "execution_count": 36,
     "metadata": {},
     "output_type": "execute_result"
    }
   ],
   "source": [
    "tweet.split(\"#\")\n",
    "#This removes all the whitespaces and the # from the tweet and only the words are stored in the list"
   ]
  },
  {
   "cell_type": "markdown",
   "id": "d6f269b9-ab52-4df5-8562-8af305d83d76",
   "metadata": {},
   "source": [
    "<h3>IN OPERATOR</h3>"
   ]
  },
  {
   "cell_type": "code",
   "execution_count": 49,
   "id": "c95d4bf1-5f76-4972-a85c-c5505e3e37cc",
   "metadata": {},
   "outputs": [
    {
     "data": {
      "text/plain": [
       "False"
      ]
     },
     "execution_count": 49,
     "metadata": {},
     "output_type": "execute_result"
    }
   ],
   "source": [
    "\"x\" in tweet\n"
   ]
  },
  {
   "cell_type": "code",
   "execution_count": 51,
   "id": "849a0084-893e-4352-9006-8ff68b79ad9b",
   "metadata": {},
   "outputs": [
    {
     "data": {
      "text/plain": [
       "True"
      ]
     },
     "execution_count": 51,
     "metadata": {},
     "output_type": "execute_result"
    }
   ],
   "source": [
    "\"Arsenal\" in tweet"
   ]
  },
  {
   "cell_type": "markdown",
   "id": "b8978f45-0211-4fec-a64e-b5529393872f",
   "metadata": {},
   "source": [
    "<h2>TUPLE UNPACKING</h2>\n",
    "\n",
    "This is used when a tuple is used inside of a list. Instead of obtaining a complete tuple from a list we can even obtain s ingle item from a tuple as well. Example below"
   ]
  },
  {
   "cell_type": "code",
   "execution_count": 56,
   "id": "03bf5979-f1f9-438e-b4ef-27bbe2fedb01",
   "metadata": {},
   "outputs": [
    {
     "name": "stdout",
     "output_type": "stream",
     "text": [
      "(0, 1)\n",
      "(2, 3)\n",
      "(4, 5)\n"
     ]
    }
   ],
   "source": [
    "ran = [(0,1),(2,3),(4,5)]\n",
    "for x in ran:\n",
    "    print(x)\n",
    "#This will return the tuples present inside each index of the list. We can obtain a single tuple value as well in the next cell"
   ]
  },
  {
   "cell_type": "code",
   "execution_count": 60,
   "id": "b4113340-a5bf-46fd-877e-5f9cd7d2dc16",
   "metadata": {},
   "outputs": [
    {
     "name": "stdout",
     "output_type": "stream",
     "text": [
      "0\n",
      "1\n",
      "2\n",
      "3\n",
      "4\n",
      "5\n"
     ]
    }
   ],
   "source": [
    "for x,y in ran:\n",
    "    print(x)\n",
    "    print(y)\n",
    "#Here we obtain single value from every tuple"
   ]
  },
  {
   "cell_type": "code",
   "execution_count": null,
   "id": "521f58fa-c8ef-4bed-9ea4-387e03965b53",
   "metadata": {},
   "outputs": [],
   "source": []
  }
 ],
 "metadata": {
  "kernelspec": {
   "display_name": "Python 3 (ipykernel)",
   "language": "python",
   "name": "python3"
  },
  "language_info": {
   "codemirror_mode": {
    "name": "ipython",
    "version": 3
   },
   "file_extension": ".py",
   "mimetype": "text/x-python",
   "name": "python",
   "nbconvert_exporter": "python",
   "pygments_lexer": "ipython3",
   "version": "3.12.4"
  }
 },
 "nbformat": 4,
 "nbformat_minor": 5
}
