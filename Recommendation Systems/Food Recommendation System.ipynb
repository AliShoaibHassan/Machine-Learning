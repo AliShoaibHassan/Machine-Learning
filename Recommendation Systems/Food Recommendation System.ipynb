{
 "cells": [
  {
   "cell_type": "code",
   "execution_count": 2,
   "id": "ee290830-6011-47fb-9dc9-d708c3c752a2",
   "metadata": {},
   "outputs": [],
   "source": [
    "import firebase_admin\n",
    "from firebase_admin import credentials,db\n",
    "import pandas as pd\n",
    "import numpy as np"
   ]
  },
  {
   "cell_type": "code",
   "execution_count": 4,
   "id": "3d64dc12-88ea-47d4-8310-730e10324956",
   "metadata": {},
   "outputs": [
    {
     "data": {
      "text/plain": [
       "<firebase_admin.App at 0x1cbab3c9bb0>"
      ]
     },
     "execution_count": 4,
     "metadata": {},
     "output_type": "execute_result"
    }
   ],
   "source": [
    "cred = credentials.Certificate('Firebase JSON file here')\n",
    "firebase_admin.initialize_app(cred,{\n",
    "                             'databaseURL': 'Firebase DB URL here'})"
   ]
  },
  {
   "cell_type": "code",
   "execution_count": 66,
   "id": "486c1697-94f1-4d43-ad22-074e1f849541",
   "metadata": {},
   "outputs": [],
   "source": [
    "ref = db.reference('/')"
   ]
  },
  {
   "cell_type": "code",
   "execution_count": 20,
   "id": "a4db7c8f-f7e2-4e98-b2c9-72ab693e808c",
   "metadata": {},
   "outputs": [],
   "source": [
    "data = {'check':{'test_key' : 'value1'}}"
   ]
  },
  {
   "cell_type": "code",
   "execution_count": 22,
   "id": "afb7de9e-3084-41a1-ac3a-7342568ea093",
   "metadata": {},
   "outputs": [
    {
     "data": {
      "text/plain": [
       "<firebase_admin.db.Reference at 0x1da66ab1f70>"
      ]
     },
     "execution_count": 22,
     "metadata": {},
     "output_type": "execute_result"
    }
   ],
   "source": [
    "ref.push(data)"
   ]
  },
  {
   "cell_type": "code",
   "execution_count": 184,
   "id": "557ac7b5-6d7d-43a3-9727-689a853f1ce5",
   "metadata": {},
   "outputs": [],
   "source": [
    "d = ref.get()"
   ]
  },
  {
   "cell_type": "code",
   "execution_count": 186,
   "id": "a43b1d0a-6756-467b-b84d-d0d4c539c4fd",
   "metadata": {},
   "outputs": [],
   "source": [
    "df = pd.DataFrame()"
   ]
  },
  {
   "cell_type": "code",
   "execution_count": 188,
   "id": "6b30a77d-5e17-4d77-ab0f-64ef54809bb7",
   "metadata": {},
   "outputs": [
    {
     "data": {
      "text/html": [
       "<div>\n",
       "<style scoped>\n",
       "    .dataframe tbody tr th:only-of-type {\n",
       "        vertical-align: middle;\n",
       "    }\n",
       "\n",
       "    .dataframe tbody tr th {\n",
       "        vertical-align: top;\n",
       "    }\n",
       "\n",
       "    .dataframe thead th {\n",
       "        text-align: right;\n",
       "    }\n",
       "</style>\n",
       "<table border=\"1\" class=\"dataframe\">\n",
       "  <thead>\n",
       "    <tr style=\"text-align: right;\">\n",
       "      <th></th>\n",
       "    </tr>\n",
       "  </thead>\n",
       "  <tbody>\n",
       "  </tbody>\n",
       "</table>\n",
       "</div>"
      ],
      "text/plain": [
       "Empty DataFrame\n",
       "Columns: []\n",
       "Index: []"
      ]
     },
     "execution_count": 188,
     "metadata": {},
     "output_type": "execute_result"
    }
   ],
   "source": [
    "df.head()"
   ]
  },
  {
   "cell_type": "code",
   "execution_count": 190,
   "id": "216fab50-f9dc-4b62-a2d5-32293145606e",
   "metadata": {},
   "outputs": [
    {
     "data": {
      "text/plain": [
       "['Pakistani',\n",
       " 'Pakistani',\n",
       " 'Chinese',\n",
       " 'Chinese',\n",
       " 'Fast Food',\n",
       " 'Fast Food',\n",
       " 'Fast Food',\n",
       " 'Fast Food',\n",
       " 'Fast Food',\n",
       " 'Middle Eastern',\n",
       " 'Fast Food',\n",
       " 'Fast Food',\n",
       " 'Chinese',\n",
       " 'Pakistani',\n",
       " 'Pakistani',\n",
       " 'Pakistani',\n",
       " 'Pakistani',\n",
       " 'Pakistani',\n",
       " 'Pakistani',\n",
       " 'Pakistani']"
      ]
     },
     "execution_count": 190,
     "metadata": {},
     "output_type": "execute_result"
    }
   ],
   "source": [
    "d['food']['Cuisine']"
   ]
  },
  {
   "cell_type": "code",
   "execution_count": 192,
   "id": "3b71d8c2-20ea-4f7a-8463-b3e885220425",
   "metadata": {},
   "outputs": [],
   "source": [
    "df['Cuisine'] = d['food']['Cuisine']"
   ]
  },
  {
   "cell_type": "code",
   "execution_count": 194,
   "id": "9f0e58c9-6e2c-41c7-97df-fdbb3085f7b4",
   "metadata": {},
   "outputs": [],
   "source": [
    "df['Key_Ingredients'] = d['food']['Key_Ingredients']"
   ]
  },
  {
   "cell_type": "code",
   "execution_count": 196,
   "id": "a2b9b48f-8a2c-4200-a0fa-a42836382776",
   "metadata": {},
   "outputs": [],
   "source": [
    "df['Spiciness'] = d['food']['Spiciness']"
   ]
  },
  {
   "cell_type": "code",
   "execution_count": 198,
   "id": "e9d05db1-1ff6-4cbf-b954-d5e4c07dd5f9",
   "metadata": {},
   "outputs": [],
   "source": [
    "df['Type'] = d['food']['Type']"
   ]
  },
  {
   "cell_type": "code",
   "execution_count": 200,
   "id": "239d9b68-7a5a-41c8-b7ab-3f3a22fe028c",
   "metadata": {},
   "outputs": [],
   "source": [
    "df['Menu'] = d['food']['Menu']"
   ]
  },
  {
   "cell_type": "code",
   "execution_count": 202,
   "id": "62a19e39-b314-4af4-a49a-6b7e4066a7cb",
   "metadata": {},
   "outputs": [
    {
     "data": {
      "text/html": [
       "<div>\n",
       "<style scoped>\n",
       "    .dataframe tbody tr th:only-of-type {\n",
       "        vertical-align: middle;\n",
       "    }\n",
       "\n",
       "    .dataframe tbody tr th {\n",
       "        vertical-align: top;\n",
       "    }\n",
       "\n",
       "    .dataframe thead th {\n",
       "        text-align: right;\n",
       "    }\n",
       "</style>\n",
       "<table border=\"1\" class=\"dataframe\">\n",
       "  <thead>\n",
       "    <tr style=\"text-align: right;\">\n",
       "      <th></th>\n",
       "      <th>Cuisine</th>\n",
       "      <th>Key_Ingredients</th>\n",
       "      <th>Spiciness</th>\n",
       "      <th>Type</th>\n",
       "      <th>Menu</th>\n",
       "    </tr>\n",
       "  </thead>\n",
       "  <tbody>\n",
       "    <tr>\n",
       "      <th>0</th>\n",
       "      <td>Pakistani</td>\n",
       "      <td>Chicken, Rice, Spices</td>\n",
       "      <td>High</td>\n",
       "      <td>Main Course</td>\n",
       "      <td>Chicken Biryani</td>\n",
       "    </tr>\n",
       "    <tr>\n",
       "      <th>1</th>\n",
       "      <td>Pakistani</td>\n",
       "      <td>Chicken, Rice</td>\n",
       "      <td>Medium</td>\n",
       "      <td>Main Course</td>\n",
       "      <td>Chicken Pulao</td>\n",
       "    </tr>\n",
       "    <tr>\n",
       "      <th>2</th>\n",
       "      <td>Chinese</td>\n",
       "      <td>Noodles, Chicken, Spices</td>\n",
       "      <td>Medium</td>\n",
       "      <td>Main Course</td>\n",
       "      <td>Chowmien</td>\n",
       "    </tr>\n",
       "    <tr>\n",
       "      <th>3</th>\n",
       "      <td>Chinese</td>\n",
       "      <td>Pasta, Cheese</td>\n",
       "      <td>Low</td>\n",
       "      <td>Snack</td>\n",
       "      <td>Macaroni</td>\n",
       "    </tr>\n",
       "    <tr>\n",
       "      <th>4</th>\n",
       "      <td>Fast Food</td>\n",
       "      <td>Potatoes</td>\n",
       "      <td>Low</td>\n",
       "      <td>Snack</td>\n",
       "      <td>Plain Fries</td>\n",
       "    </tr>\n",
       "  </tbody>\n",
       "</table>\n",
       "</div>"
      ],
      "text/plain": [
       "     Cuisine           Key_Ingredients Spiciness         Type             Menu\n",
       "0  Pakistani     Chicken, Rice, Spices      High  Main Course  Chicken Biryani\n",
       "1  Pakistani             Chicken, Rice    Medium  Main Course    Chicken Pulao\n",
       "2    Chinese  Noodles, Chicken, Spices    Medium  Main Course         Chowmien\n",
       "3    Chinese             Pasta, Cheese       Low        Snack         Macaroni\n",
       "4  Fast Food                  Potatoes       Low        Snack      Plain Fries"
      ]
     },
     "execution_count": 202,
     "metadata": {},
     "output_type": "execute_result"
    }
   ],
   "source": [
    "df.head()"
   ]
  },
  {
   "cell_type": "code",
   "execution_count": 204,
   "id": "daf29844-3227-47ec-9a08-c31a27427da3",
   "metadata": {},
   "outputs": [
    {
     "data": {
      "text/html": [
       "<div>\n",
       "<style scoped>\n",
       "    .dataframe tbody tr th:only-of-type {\n",
       "        vertical-align: middle;\n",
       "    }\n",
       "\n",
       "    .dataframe tbody tr th {\n",
       "        vertical-align: top;\n",
       "    }\n",
       "\n",
       "    .dataframe thead th {\n",
       "        text-align: right;\n",
       "    }\n",
       "</style>\n",
       "<table border=\"1\" class=\"dataframe\">\n",
       "  <thead>\n",
       "    <tr style=\"text-align: right;\">\n",
       "      <th></th>\n",
       "      <th>Cuisine</th>\n",
       "      <th>Key_Ingredients</th>\n",
       "      <th>Spiciness</th>\n",
       "      <th>Type</th>\n",
       "      <th>Menu</th>\n",
       "    </tr>\n",
       "  </thead>\n",
       "  <tbody>\n",
       "    <tr>\n",
       "      <th>0</th>\n",
       "      <td>Pakistani</td>\n",
       "      <td>Chicken, Rice, Spices</td>\n",
       "      <td>High</td>\n",
       "      <td>[MainCourse]</td>\n",
       "      <td>Chicken Biryani</td>\n",
       "    </tr>\n",
       "    <tr>\n",
       "      <th>1</th>\n",
       "      <td>Pakistani</td>\n",
       "      <td>Chicken, Rice</td>\n",
       "      <td>Medium</td>\n",
       "      <td>[MainCourse]</td>\n",
       "      <td>Chicken Pulao</td>\n",
       "    </tr>\n",
       "    <tr>\n",
       "      <th>2</th>\n",
       "      <td>Chinese</td>\n",
       "      <td>Noodles, Chicken, Spices</td>\n",
       "      <td>Medium</td>\n",
       "      <td>[MainCourse]</td>\n",
       "      <td>Chowmien</td>\n",
       "    </tr>\n",
       "    <tr>\n",
       "      <th>3</th>\n",
       "      <td>Chinese</td>\n",
       "      <td>Pasta, Cheese</td>\n",
       "      <td>Low</td>\n",
       "      <td>[Snack]</td>\n",
       "      <td>Macaroni</td>\n",
       "    </tr>\n",
       "    <tr>\n",
       "      <th>4</th>\n",
       "      <td>Fast Food</td>\n",
       "      <td>Potatoes</td>\n",
       "      <td>Low</td>\n",
       "      <td>[Snack]</td>\n",
       "      <td>Plain Fries</td>\n",
       "    </tr>\n",
       "  </tbody>\n",
       "</table>\n",
       "</div>"
      ],
      "text/plain": [
       "     Cuisine           Key_Ingredients Spiciness          Type  \\\n",
       "0  Pakistani     Chicken, Rice, Spices      High  [MainCourse]   \n",
       "1  Pakistani             Chicken, Rice    Medium  [MainCourse]   \n",
       "2    Chinese  Noodles, Chicken, Spices    Medium  [MainCourse]   \n",
       "3    Chinese             Pasta, Cheese       Low       [Snack]   \n",
       "4  Fast Food                  Potatoes       Low       [Snack]   \n",
       "\n",
       "              Menu  \n",
       "0  Chicken Biryani  \n",
       "1    Chicken Pulao  \n",
       "2         Chowmien  \n",
       "3         Macaroni  \n",
       "4      Plain Fries  "
      ]
     },
     "execution_count": 204,
     "metadata": {},
     "output_type": "execute_result"
    }
   ],
   "source": [
    "df ['Type'] = df['Type'].apply(lambda x:[x.replace(\" \", \"\")])\n",
    "\n",
    "df.head()"
   ]
  },
  {
   "cell_type": "code",
   "execution_count": 206,
   "id": "1bb62ca3-e48b-4bd6-82c8-2612fd0692e9",
   "metadata": {},
   "outputs": [
    {
     "data": {
      "text/html": [
       "<div>\n",
       "<style scoped>\n",
       "    .dataframe tbody tr th:only-of-type {\n",
       "        vertical-align: middle;\n",
       "    }\n",
       "\n",
       "    .dataframe tbody tr th {\n",
       "        vertical-align: top;\n",
       "    }\n",
       "\n",
       "    .dataframe thead th {\n",
       "        text-align: right;\n",
       "    }\n",
       "</style>\n",
       "<table border=\"1\" class=\"dataframe\">\n",
       "  <thead>\n",
       "    <tr style=\"text-align: right;\">\n",
       "      <th></th>\n",
       "      <th>Cuisine</th>\n",
       "      <th>Key_Ingredients</th>\n",
       "      <th>Spiciness</th>\n",
       "      <th>Type</th>\n",
       "      <th>Menu</th>\n",
       "    </tr>\n",
       "  </thead>\n",
       "  <tbody>\n",
       "    <tr>\n",
       "      <th>0</th>\n",
       "      <td>[Pakistani]</td>\n",
       "      <td>Chicken, Rice, Spices</td>\n",
       "      <td>High</td>\n",
       "      <td>[MainCourse]</td>\n",
       "      <td>Chicken Biryani</td>\n",
       "    </tr>\n",
       "    <tr>\n",
       "      <th>1</th>\n",
       "      <td>[Pakistani]</td>\n",
       "      <td>Chicken, Rice</td>\n",
       "      <td>Medium</td>\n",
       "      <td>[MainCourse]</td>\n",
       "      <td>Chicken Pulao</td>\n",
       "    </tr>\n",
       "    <tr>\n",
       "      <th>2</th>\n",
       "      <td>[Chinese]</td>\n",
       "      <td>Noodles, Chicken, Spices</td>\n",
       "      <td>Medium</td>\n",
       "      <td>[MainCourse]</td>\n",
       "      <td>Chowmien</td>\n",
       "    </tr>\n",
       "    <tr>\n",
       "      <th>3</th>\n",
       "      <td>[Chinese]</td>\n",
       "      <td>Pasta, Cheese</td>\n",
       "      <td>Low</td>\n",
       "      <td>[Snack]</td>\n",
       "      <td>Macaroni</td>\n",
       "    </tr>\n",
       "    <tr>\n",
       "      <th>4</th>\n",
       "      <td>[FastFood]</td>\n",
       "      <td>Potatoes</td>\n",
       "      <td>Low</td>\n",
       "      <td>[Snack]</td>\n",
       "      <td>Plain Fries</td>\n",
       "    </tr>\n",
       "  </tbody>\n",
       "</table>\n",
       "</div>"
      ],
      "text/plain": [
       "       Cuisine           Key_Ingredients Spiciness          Type  \\\n",
       "0  [Pakistani]     Chicken, Rice, Spices      High  [MainCourse]   \n",
       "1  [Pakistani]             Chicken, Rice    Medium  [MainCourse]   \n",
       "2    [Chinese]  Noodles, Chicken, Spices    Medium  [MainCourse]   \n",
       "3    [Chinese]             Pasta, Cheese       Low       [Snack]   \n",
       "4   [FastFood]                  Potatoes       Low       [Snack]   \n",
       "\n",
       "              Menu  \n",
       "0  Chicken Biryani  \n",
       "1    Chicken Pulao  \n",
       "2         Chowmien  \n",
       "3         Macaroni  \n",
       "4      Plain Fries  "
      ]
     },
     "execution_count": 206,
     "metadata": {},
     "output_type": "execute_result"
    }
   ],
   "source": [
    "df ['Cuisine'] = df['Cuisine'].apply(lambda x:[x.replace(\" \", \"\")])\n",
    "\n",
    "df.head()"
   ]
  },
  {
   "cell_type": "code",
   "execution_count": 212,
   "id": "17083fee-fa1d-4147-950b-431f6ab4e1a9",
   "metadata": {},
   "outputs": [],
   "source": [
    "df['Spiciness'] = df['Spiciness'].apply(lambda x:x.split())\n",
    "df['Key_Ingredients'] = df['Key_Ingredients'].apply(lambda x:x.split())"
   ]
  },
  {
   "cell_type": "code",
   "execution_count": 214,
   "id": "0c3b5f9e-3816-479b-9af8-3a11f7b4f6cb",
   "metadata": {},
   "outputs": [
    {
     "data": {
      "text/html": [
       "<div>\n",
       "<style scoped>\n",
       "    .dataframe tbody tr th:only-of-type {\n",
       "        vertical-align: middle;\n",
       "    }\n",
       "\n",
       "    .dataframe tbody tr th {\n",
       "        vertical-align: top;\n",
       "    }\n",
       "\n",
       "    .dataframe thead th {\n",
       "        text-align: right;\n",
       "    }\n",
       "</style>\n",
       "<table border=\"1\" class=\"dataframe\">\n",
       "  <thead>\n",
       "    <tr style=\"text-align: right;\">\n",
       "      <th></th>\n",
       "      <th>Cuisine</th>\n",
       "      <th>Key_Ingredients</th>\n",
       "      <th>Spiciness</th>\n",
       "      <th>Type</th>\n",
       "      <th>Menu</th>\n",
       "    </tr>\n",
       "  </thead>\n",
       "  <tbody>\n",
       "    <tr>\n",
       "      <th>0</th>\n",
       "      <td>[Pakistani]</td>\n",
       "      <td>[Chicken,, Rice,, Spices]</td>\n",
       "      <td>[High]</td>\n",
       "      <td>[MainCourse]</td>\n",
       "      <td>Chicken Biryani</td>\n",
       "    </tr>\n",
       "    <tr>\n",
       "      <th>1</th>\n",
       "      <td>[Pakistani]</td>\n",
       "      <td>[Chicken,, Rice]</td>\n",
       "      <td>[Medium]</td>\n",
       "      <td>[MainCourse]</td>\n",
       "      <td>Chicken Pulao</td>\n",
       "    </tr>\n",
       "    <tr>\n",
       "      <th>2</th>\n",
       "      <td>[Chinese]</td>\n",
       "      <td>[Noodles,, Chicken,, Spices]</td>\n",
       "      <td>[Medium]</td>\n",
       "      <td>[MainCourse]</td>\n",
       "      <td>Chowmien</td>\n",
       "    </tr>\n",
       "    <tr>\n",
       "      <th>3</th>\n",
       "      <td>[Chinese]</td>\n",
       "      <td>[Pasta,, Cheese]</td>\n",
       "      <td>[Low]</td>\n",
       "      <td>[Snack]</td>\n",
       "      <td>Macaroni</td>\n",
       "    </tr>\n",
       "    <tr>\n",
       "      <th>4</th>\n",
       "      <td>[FastFood]</td>\n",
       "      <td>[Potatoes]</td>\n",
       "      <td>[Low]</td>\n",
       "      <td>[Snack]</td>\n",
       "      <td>Plain Fries</td>\n",
       "    </tr>\n",
       "  </tbody>\n",
       "</table>\n",
       "</div>"
      ],
      "text/plain": [
       "       Cuisine               Key_Ingredients Spiciness          Type  \\\n",
       "0  [Pakistani]     [Chicken,, Rice,, Spices]    [High]  [MainCourse]   \n",
       "1  [Pakistani]              [Chicken,, Rice]  [Medium]  [MainCourse]   \n",
       "2    [Chinese]  [Noodles,, Chicken,, Spices]  [Medium]  [MainCourse]   \n",
       "3    [Chinese]              [Pasta,, Cheese]     [Low]       [Snack]   \n",
       "4   [FastFood]                    [Potatoes]     [Low]       [Snack]   \n",
       "\n",
       "              Menu  \n",
       "0  Chicken Biryani  \n",
       "1    Chicken Pulao  \n",
       "2         Chowmien  \n",
       "3         Macaroni  \n",
       "4      Plain Fries  "
      ]
     },
     "execution_count": 214,
     "metadata": {},
     "output_type": "execute_result"
    }
   ],
   "source": [
    "df.head()"
   ]
  },
  {
   "cell_type": "code",
   "execution_count": 62,
   "id": "5293f166-591f-419e-90f1-db73676fc32d",
   "metadata": {},
   "outputs": [],
   "source": [
    "df ['Cuisine'] = df['Cuisine'].apply(lambda x:[i.replace(\" \", \"\") for i in x])\n",
    "df ['Key_Ingredients'] = df['Key_Ingredients'].apply(lambda x:[i.replace(\" \", \"\") for i in x])\n",
    "df ['Spiciness'] = df['Spiciness'].apply(lambda x:[i.replace(\" \", \"\") for i in x])\n",
    "df ['Type'] = df['Type'].apply(lambda x:[i.replace(\" \", \"\") for i in x])"
   ]
  },
  {
   "cell_type": "code",
   "execution_count": 134,
   "id": "70fd8981-1c12-45c9-b6e2-954ec4e60cc3",
   "metadata": {},
   "outputs": [
    {
     "data": {
      "text/html": [
       "<div>\n",
       "<style scoped>\n",
       "    .dataframe tbody tr th:only-of-type {\n",
       "        vertical-align: middle;\n",
       "    }\n",
       "\n",
       "    .dataframe tbody tr th {\n",
       "        vertical-align: top;\n",
       "    }\n",
       "\n",
       "    .dataframe thead th {\n",
       "        text-align: right;\n",
       "    }\n",
       "</style>\n",
       "<table border=\"1\" class=\"dataframe\">\n",
       "  <thead>\n",
       "    <tr style=\"text-align: right;\">\n",
       "      <th></th>\n",
       "      <th>Cuisine</th>\n",
       "      <th>Key_Ingredients</th>\n",
       "      <th>Spiciness</th>\n",
       "      <th>Type</th>\n",
       "      <th>Menu</th>\n",
       "    </tr>\n",
       "  </thead>\n",
       "  <tbody>\n",
       "    <tr>\n",
       "      <th>0</th>\n",
       "      <td>[Pakistani]</td>\n",
       "      <td>[Chicken,, Rice,, Spices]</td>\n",
       "      <td>[High]</td>\n",
       "      <td>[MainCourse]</td>\n",
       "      <td>Chicken Biryani</td>\n",
       "    </tr>\n",
       "    <tr>\n",
       "      <th>1</th>\n",
       "      <td>[Pakistani]</td>\n",
       "      <td>[Chicken,, Rice]</td>\n",
       "      <td>[Medium]</td>\n",
       "      <td>[MainCourse]</td>\n",
       "      <td>Chicken Pulao</td>\n",
       "    </tr>\n",
       "    <tr>\n",
       "      <th>2</th>\n",
       "      <td>[Chinese]</td>\n",
       "      <td>[Noodles,, Chicken,, Spices]</td>\n",
       "      <td>[Medium]</td>\n",
       "      <td>[MainCourse]</td>\n",
       "      <td>Chowmien</td>\n",
       "    </tr>\n",
       "    <tr>\n",
       "      <th>3</th>\n",
       "      <td>[Chinese]</td>\n",
       "      <td>[Pasta,, Cheese]</td>\n",
       "      <td>[Low]</td>\n",
       "      <td>[Snack]</td>\n",
       "      <td>Macaroni</td>\n",
       "    </tr>\n",
       "    <tr>\n",
       "      <th>4</th>\n",
       "      <td>[FastFood]</td>\n",
       "      <td>[Potatoes]</td>\n",
       "      <td>[Low]</td>\n",
       "      <td>[Snack]</td>\n",
       "      <td>Plain Fries</td>\n",
       "    </tr>\n",
       "  </tbody>\n",
       "</table>\n",
       "</div>"
      ],
      "text/plain": [
       "       Cuisine               Key_Ingredients Spiciness          Type  \\\n",
       "0  [Pakistani]     [Chicken,, Rice,, Spices]    [High]  [MainCourse]   \n",
       "1  [Pakistani]              [Chicken,, Rice]  [Medium]  [MainCourse]   \n",
       "2    [Chinese]  [Noodles,, Chicken,, Spices]  [Medium]  [MainCourse]   \n",
       "3    [Chinese]              [Pasta,, Cheese]     [Low]       [Snack]   \n",
       "4   [FastFood]                    [Potatoes]     [Low]       [Snack]   \n",
       "\n",
       "              Menu  \n",
       "0  Chicken Biryani  \n",
       "1    Chicken Pulao  \n",
       "2         Chowmien  \n",
       "3         Macaroni  \n",
       "4      Plain Fries  "
      ]
     },
     "execution_count": 134,
     "metadata": {},
     "output_type": "execute_result"
    }
   ],
   "source": [
    "df.head()"
   ]
  },
  {
   "cell_type": "code",
   "execution_count": 216,
   "id": "8d9e5ce6-0f91-4756-b2a7-f6bfb1ef9361",
   "metadata": {},
   "outputs": [],
   "source": [
    "df['tags'] = df['Cuisine'] + df['Key_Ingredients'] + df['Spiciness'] + df['Type']"
   ]
  },
  {
   "cell_type": "code",
   "execution_count": 218,
   "id": "313231a8-0e62-4489-a831-d07342390fdf",
   "metadata": {},
   "outputs": [
    {
     "data": {
      "text/html": [
       "<div>\n",
       "<style scoped>\n",
       "    .dataframe tbody tr th:only-of-type {\n",
       "        vertical-align: middle;\n",
       "    }\n",
       "\n",
       "    .dataframe tbody tr th {\n",
       "        vertical-align: top;\n",
       "    }\n",
       "\n",
       "    .dataframe thead th {\n",
       "        text-align: right;\n",
       "    }\n",
       "</style>\n",
       "<table border=\"1\" class=\"dataframe\">\n",
       "  <thead>\n",
       "    <tr style=\"text-align: right;\">\n",
       "      <th></th>\n",
       "      <th>Cuisine</th>\n",
       "      <th>Key_Ingredients</th>\n",
       "      <th>Spiciness</th>\n",
       "      <th>Type</th>\n",
       "      <th>Menu</th>\n",
       "      <th>tags</th>\n",
       "    </tr>\n",
       "  </thead>\n",
       "  <tbody>\n",
       "    <tr>\n",
       "      <th>0</th>\n",
       "      <td>[Pakistani]</td>\n",
       "      <td>[Chicken,, Rice,, Spices]</td>\n",
       "      <td>[High]</td>\n",
       "      <td>[MainCourse]</td>\n",
       "      <td>Chicken Biryani</td>\n",
       "      <td>[Pakistani, Chicken,, Rice,, Spices, High, Mai...</td>\n",
       "    </tr>\n",
       "    <tr>\n",
       "      <th>1</th>\n",
       "      <td>[Pakistani]</td>\n",
       "      <td>[Chicken,, Rice]</td>\n",
       "      <td>[Medium]</td>\n",
       "      <td>[MainCourse]</td>\n",
       "      <td>Chicken Pulao</td>\n",
       "      <td>[Pakistani, Chicken,, Rice, Medium, MainCourse]</td>\n",
       "    </tr>\n",
       "    <tr>\n",
       "      <th>2</th>\n",
       "      <td>[Chinese]</td>\n",
       "      <td>[Noodles,, Chicken,, Spices]</td>\n",
       "      <td>[Medium]</td>\n",
       "      <td>[MainCourse]</td>\n",
       "      <td>Chowmien</td>\n",
       "      <td>[Chinese, Noodles,, Chicken,, Spices, Medium, ...</td>\n",
       "    </tr>\n",
       "    <tr>\n",
       "      <th>3</th>\n",
       "      <td>[Chinese]</td>\n",
       "      <td>[Pasta,, Cheese]</td>\n",
       "      <td>[Low]</td>\n",
       "      <td>[Snack]</td>\n",
       "      <td>Macaroni</td>\n",
       "      <td>[Chinese, Pasta,, Cheese, Low, Snack]</td>\n",
       "    </tr>\n",
       "    <tr>\n",
       "      <th>4</th>\n",
       "      <td>[FastFood]</td>\n",
       "      <td>[Potatoes]</td>\n",
       "      <td>[Low]</td>\n",
       "      <td>[Snack]</td>\n",
       "      <td>Plain Fries</td>\n",
       "      <td>[FastFood, Potatoes, Low, Snack]</td>\n",
       "    </tr>\n",
       "  </tbody>\n",
       "</table>\n",
       "</div>"
      ],
      "text/plain": [
       "       Cuisine               Key_Ingredients Spiciness          Type  \\\n",
       "0  [Pakistani]     [Chicken,, Rice,, Spices]    [High]  [MainCourse]   \n",
       "1  [Pakistani]              [Chicken,, Rice]  [Medium]  [MainCourse]   \n",
       "2    [Chinese]  [Noodles,, Chicken,, Spices]  [Medium]  [MainCourse]   \n",
       "3    [Chinese]              [Pasta,, Cheese]     [Low]       [Snack]   \n",
       "4   [FastFood]                    [Potatoes]     [Low]       [Snack]   \n",
       "\n",
       "              Menu                                               tags  \n",
       "0  Chicken Biryani  [Pakistani, Chicken,, Rice,, Spices, High, Mai...  \n",
       "1    Chicken Pulao    [Pakistani, Chicken,, Rice, Medium, MainCourse]  \n",
       "2         Chowmien  [Chinese, Noodles,, Chicken,, Spices, Medium, ...  \n",
       "3         Macaroni              [Chinese, Pasta,, Cheese, Low, Snack]  \n",
       "4      Plain Fries                   [FastFood, Potatoes, Low, Snack]  "
      ]
     },
     "execution_count": 218,
     "metadata": {},
     "output_type": "execute_result"
    }
   ],
   "source": [
    "df.head()"
   ]
  },
  {
   "cell_type": "code",
   "execution_count": 220,
   "id": "ecfd02f0-3ed6-4218-a886-5d54cc7bd810",
   "metadata": {},
   "outputs": [],
   "source": [
    "new_df = df[['Menu', 'tags']]"
   ]
  },
  {
   "cell_type": "code",
   "execution_count": 222,
   "id": "7db4931f-0a35-49be-89df-507708fe6c6b",
   "metadata": {},
   "outputs": [
    {
     "data": {
      "text/html": [
       "<div>\n",
       "<style scoped>\n",
       "    .dataframe tbody tr th:only-of-type {\n",
       "        vertical-align: middle;\n",
       "    }\n",
       "\n",
       "    .dataframe tbody tr th {\n",
       "        vertical-align: top;\n",
       "    }\n",
       "\n",
       "    .dataframe thead th {\n",
       "        text-align: right;\n",
       "    }\n",
       "</style>\n",
       "<table border=\"1\" class=\"dataframe\">\n",
       "  <thead>\n",
       "    <tr style=\"text-align: right;\">\n",
       "      <th></th>\n",
       "      <th>Menu</th>\n",
       "      <th>tags</th>\n",
       "    </tr>\n",
       "  </thead>\n",
       "  <tbody>\n",
       "    <tr>\n",
       "      <th>0</th>\n",
       "      <td>Chicken Biryani</td>\n",
       "      <td>[Pakistani, Chicken,, Rice,, Spices, High, Mai...</td>\n",
       "    </tr>\n",
       "    <tr>\n",
       "      <th>1</th>\n",
       "      <td>Chicken Pulao</td>\n",
       "      <td>[Pakistani, Chicken,, Rice, Medium, MainCourse]</td>\n",
       "    </tr>\n",
       "    <tr>\n",
       "      <th>2</th>\n",
       "      <td>Chowmien</td>\n",
       "      <td>[Chinese, Noodles,, Chicken,, Spices, Medium, ...</td>\n",
       "    </tr>\n",
       "    <tr>\n",
       "      <th>3</th>\n",
       "      <td>Macaroni</td>\n",
       "      <td>[Chinese, Pasta,, Cheese, Low, Snack]</td>\n",
       "    </tr>\n",
       "    <tr>\n",
       "      <th>4</th>\n",
       "      <td>Plain Fries</td>\n",
       "      <td>[FastFood, Potatoes, Low, Snack]</td>\n",
       "    </tr>\n",
       "  </tbody>\n",
       "</table>\n",
       "</div>"
      ],
      "text/plain": [
       "              Menu                                               tags\n",
       "0  Chicken Biryani  [Pakistani, Chicken,, Rice,, Spices, High, Mai...\n",
       "1    Chicken Pulao    [Pakistani, Chicken,, Rice, Medium, MainCourse]\n",
       "2         Chowmien  [Chinese, Noodles,, Chicken,, Spices, Medium, ...\n",
       "3         Macaroni              [Chinese, Pasta,, Cheese, Low, Snack]\n",
       "4      Plain Fries                   [FastFood, Potatoes, Low, Snack]"
      ]
     },
     "execution_count": 222,
     "metadata": {},
     "output_type": "execute_result"
    }
   ],
   "source": [
    "new_df.head()"
   ]
  },
  {
   "cell_type": "code",
   "execution_count": 224,
   "id": "5e233cca-6cfa-4255-84fd-32242e1725ed",
   "metadata": {},
   "outputs": [
    {
     "name": "stderr",
     "output_type": "stream",
     "text": [
      "C:\\Users\\Hp\\AppData\\Local\\Temp\\ipykernel_6908\\1955922539.py:1: SettingWithCopyWarning: \n",
      "A value is trying to be set on a copy of a slice from a DataFrame.\n",
      "Try using .loc[row_indexer,col_indexer] = value instead\n",
      "\n",
      "See the caveats in the documentation: https://pandas.pydata.org/pandas-docs/stable/user_guide/indexing.html#returning-a-view-versus-a-copy\n",
      "  new_df['tags'] = new_df['tags'].apply(lambda x: \" \".join(x))\n"
     ]
    },
    {
     "data": {
      "text/html": [
       "<div>\n",
       "<style scoped>\n",
       "    .dataframe tbody tr th:only-of-type {\n",
       "        vertical-align: middle;\n",
       "    }\n",
       "\n",
       "    .dataframe tbody tr th {\n",
       "        vertical-align: top;\n",
       "    }\n",
       "\n",
       "    .dataframe thead th {\n",
       "        text-align: right;\n",
       "    }\n",
       "</style>\n",
       "<table border=\"1\" class=\"dataframe\">\n",
       "  <thead>\n",
       "    <tr style=\"text-align: right;\">\n",
       "      <th></th>\n",
       "      <th>Menu</th>\n",
       "      <th>tags</th>\n",
       "    </tr>\n",
       "  </thead>\n",
       "  <tbody>\n",
       "    <tr>\n",
       "      <th>0</th>\n",
       "      <td>Chicken Biryani</td>\n",
       "      <td>Pakistani Chicken, Rice, Spices High MainCourse</td>\n",
       "    </tr>\n",
       "    <tr>\n",
       "      <th>1</th>\n",
       "      <td>Chicken Pulao</td>\n",
       "      <td>Pakistani Chicken, Rice Medium MainCourse</td>\n",
       "    </tr>\n",
       "    <tr>\n",
       "      <th>2</th>\n",
       "      <td>Chowmien</td>\n",
       "      <td>Chinese Noodles, Chicken, Spices Medium MainCo...</td>\n",
       "    </tr>\n",
       "    <tr>\n",
       "      <th>3</th>\n",
       "      <td>Macaroni</td>\n",
       "      <td>Chinese Pasta, Cheese Low Snack</td>\n",
       "    </tr>\n",
       "    <tr>\n",
       "      <th>4</th>\n",
       "      <td>Plain Fries</td>\n",
       "      <td>FastFood Potatoes Low Snack</td>\n",
       "    </tr>\n",
       "  </tbody>\n",
       "</table>\n",
       "</div>"
      ],
      "text/plain": [
       "              Menu                                               tags\n",
       "0  Chicken Biryani    Pakistani Chicken, Rice, Spices High MainCourse\n",
       "1    Chicken Pulao          Pakistani Chicken, Rice Medium MainCourse\n",
       "2         Chowmien  Chinese Noodles, Chicken, Spices Medium MainCo...\n",
       "3         Macaroni                    Chinese Pasta, Cheese Low Snack\n",
       "4      Plain Fries                        FastFood Potatoes Low Snack"
      ]
     },
     "execution_count": 224,
     "metadata": {},
     "output_type": "execute_result"
    }
   ],
   "source": [
    "new_df['tags'] = new_df['tags'].apply(lambda x: \" \".join(x))\n",
    "new_df.head()"
   ]
  },
  {
   "cell_type": "code",
   "execution_count": 226,
   "id": "04cd8859-ad8a-4567-bb70-dcde91d05ab3",
   "metadata": {},
   "outputs": [
    {
     "name": "stderr",
     "output_type": "stream",
     "text": [
      "C:\\Users\\Hp\\AppData\\Local\\Temp\\ipykernel_6908\\3214958533.py:1: SettingWithCopyWarning: \n",
      "A value is trying to be set on a copy of a slice from a DataFrame.\n",
      "Try using .loc[row_indexer,col_indexer] = value instead\n",
      "\n",
      "See the caveats in the documentation: https://pandas.pydata.org/pandas-docs/stable/user_guide/indexing.html#returning-a-view-versus-a-copy\n",
      "  new_df['tags'] = new_df['tags'].apply(lambda x:x.lower())\n"
     ]
    }
   ],
   "source": [
    "new_df['tags'] = new_df['tags'].apply(lambda x:x.lower())"
   ]
  },
  {
   "cell_type": "code",
   "execution_count": 228,
   "id": "efdbc4a2-771e-45c3-afee-99ec0e824c8e",
   "metadata": {},
   "outputs": [],
   "source": [
    "from sklearn.feature_extraction.text import CountVectorizer"
   ]
  },
  {
   "cell_type": "code",
   "execution_count": 230,
   "id": "608be26f-e79e-4314-8274-ec0418643fb1",
   "metadata": {},
   "outputs": [],
   "source": [
    "cv = CountVectorizer(max_features=5000)"
   ]
  },
  {
   "cell_type": "code",
   "execution_count": 232,
   "id": "b6b5605f-875b-423a-b53e-dfad953c1773",
   "metadata": {},
   "outputs": [
    {
     "data": {
      "text/plain": [
       "array([[0, 0, 0, 1, 0, 0, 0, 0, 0, 1, 0, 1, 0, 0, 0, 0, 0, 0, 1, 0, 0, 0,\n",
       "        1, 0, 1, 0, 0],\n",
       "       [0, 0, 0, 1, 0, 0, 0, 0, 0, 0, 0, 1, 0, 0, 1, 0, 0, 0, 1, 0, 0, 0,\n",
       "        1, 0, 0, 0, 0],\n",
       "       [0, 0, 0, 1, 1, 0, 0, 0, 0, 0, 0, 1, 0, 0, 1, 0, 0, 1, 0, 0, 0, 0,\n",
       "        0, 0, 1, 0, 0],\n",
       "       [0, 0, 1, 0, 1, 0, 0, 0, 0, 0, 1, 0, 0, 0, 0, 0, 0, 0, 0, 0, 1, 0,\n",
       "        0, 1, 0, 0, 0],\n",
       "       [0, 0, 0, 0, 0, 0, 1, 0, 0, 0, 1, 0, 0, 0, 0, 0, 0, 0, 0, 0, 0, 1,\n",
       "        0, 1, 0, 0, 0],\n",
       "       [0, 0, 0, 0, 0, 0, 1, 0, 1, 0, 1, 0, 1, 0, 0, 0, 0, 0, 0, 0, 0, 1,\n",
       "        0, 1, 0, 0, 0],\n",
       "       [0, 0, 0, 1, 0, 0, 1, 0, 0, 1, 0, 0, 0, 0, 0, 0, 0, 0, 0, 0, 0, 0,\n",
       "        0, 1, 1, 0, 0],\n",
       "       [0, 0, 0, 1, 0, 0, 1, 0, 0, 1, 0, 0, 0, 0, 0, 0, 0, 0, 0, 0, 0, 0,\n",
       "        0, 1, 1, 0, 0],\n",
       "       [0, 0, 1, 1, 0, 0, 1, 0, 0, 0, 0, 1, 0, 0, 1, 0, 0, 0, 0, 0, 0, 0,\n",
       "        0, 0, 0, 0, 0],\n",
       "       [1, 0, 0, 1, 0, 0, 0, 0, 0, 0, 0, 1, 0, 0, 1, 1, 0, 0, 0, 0, 0, 0,\n",
       "        0, 0, 1, 0, 0],\n",
       "       [1, 0, 1, 1, 0, 0, 1, 0, 0, 0, 0, 1, 0, 0, 1, 0, 0, 0, 0, 0, 0, 0,\n",
       "        0, 0, 0, 0, 0],\n",
       "       [1, 0, 0, 1, 0, 0, 1, 0, 0, 1, 0, 1, 0, 0, 0, 0, 0, 0, 0, 0, 0, 0,\n",
       "        0, 0, 1, 0, 0],\n",
       "       [0, 0, 0, 0, 1, 1, 0, 0, 0, 0, 1, 0, 0, 0, 0, 0, 0, 0, 0, 0, 0, 0,\n",
       "        0, 1, 0, 1, 0],\n",
       "       [0, 0, 0, 1, 0, 0, 0, 0, 0, 1, 0, 1, 0, 0, 0, 0, 0, 0, 1, 0, 0, 0,\n",
       "        0, 0, 1, 0, 0],\n",
       "       [0, 0, 0, 1, 0, 0, 0, 0, 0, 0, 0, 0, 0, 0, 1, 0, 0, 0, 1, 1, 0, 0,\n",
       "        0, 1, 1, 0, 0],\n",
       "       [0, 1, 0, 0, 0, 0, 0, 1, 0, 0, 0, 0, 0, 0, 1, 0, 0, 0, 1, 0, 0, 0,\n",
       "        0, 1, 0, 0, 0],\n",
       "       [0, 0, 0, 0, 0, 0, 0, 0, 0, 0, 0, 0, 0, 0, 1, 0, 0, 0, 1, 0, 0, 1,\n",
       "        0, 1, 1, 0, 0],\n",
       "       [0, 0, 0, 1, 0, 0, 0, 0, 0, 0, 0, 0, 0, 0, 1, 0, 0, 0, 1, 0, 0, 0,\n",
       "        0, 1, 1, 0, 0],\n",
       "       [0, 0, 0, 0, 0, 0, 0, 0, 0, 0, 0, 0, 0, 1, 1, 0, 1, 0, 1, 0, 0, 0,\n",
       "        0, 1, 1, 0, 0],\n",
       "       [0, 0, 0, 0, 0, 0, 0, 1, 0, 0, 1, 1, 0, 0, 0, 0, 0, 0, 1, 0, 0, 0,\n",
       "        0, 0, 0, 0, 1]], dtype=int64)"
      ]
     },
     "execution_count": 232,
     "metadata": {},
     "output_type": "execute_result"
    }
   ],
   "source": [
    "cv.fit_transform(new_df['tags']).toarray()"
   ]
  },
  {
   "cell_type": "code",
   "execution_count": 234,
   "id": "811d578c-6cc1-46e3-b719-d48193a4d9f9",
   "metadata": {},
   "outputs": [],
   "source": [
    "vectors = cv.fit_transform(new_df['tags']).toarray()"
   ]
  },
  {
   "cell_type": "code",
   "execution_count": 236,
   "id": "76f8ca2d-2b80-48b1-89bb-01c04155d664",
   "metadata": {},
   "outputs": [
    {
     "data": {
      "text/plain": [
       "array(['bread', 'butter', 'cheese', 'chicken', 'chinese', 'dough',\n",
       "       'fastfood', 'flour', 'garlic', 'high', 'low', 'maincourse', 'mayo',\n",
       "       'meat', 'medium', 'middleeastern', 'minced', 'noodles',\n",
       "       'pakistani', 'paratha', 'pasta', 'potatoes', 'rice', 'snack',\n",
       "       'spices', 'vegetables', 'water'], dtype=object)"
      ]
     },
     "execution_count": 236,
     "metadata": {},
     "output_type": "execute_result"
    }
   ],
   "source": [
    "cv.get_feature_names_out()"
   ]
  },
  {
   "cell_type": "code",
   "execution_count": 238,
   "id": "10da5a81-4ccb-4136-802b-67ab897fc9ed",
   "metadata": {},
   "outputs": [],
   "source": [
    "from sklearn.metrics.pairwise import cosine_similarity"
   ]
  },
  {
   "cell_type": "code",
   "execution_count": 240,
   "id": "ed71693f-4262-4a3c-99c2-923b2e53617e",
   "metadata": {},
   "outputs": [],
   "source": [
    "similarity = cosine_similarity(vectors)"
   ]
  },
  {
   "cell_type": "code",
   "execution_count": 242,
   "id": "b9ee57aa-4741-402a-8a80-cd3d59a2cb42",
   "metadata": {},
   "outputs": [],
   "source": [
    "def recommend(item):\n",
    "    df_index = new_df[new_df['Menu'] == item].index[0]\n",
    "    distances = similarity[df_index]\n",
    "    distances = sorted(list(enumerate(distances)),reverse=True,key = lambda x: x[1])\n",
    "    for i in distances[1:3]:\n",
    "        print(new_df.iloc[i[0]].Menu)"
   ]
  },
  {
   "cell_type": "code",
   "execution_count": 252,
   "id": "b5d0685c-339c-4990-8bd9-027c6ca9c4dd",
   "metadata": {},
   "outputs": [
    {
     "name": "stdout",
     "output_type": "stream",
     "text": [
      "Kruch Burger\n",
      "Chicken Pulao\n"
     ]
    }
   ],
   "source": [
    "recommend(\"Pizza\")"
   ]
  },
  {
   "cell_type": "code",
   "execution_count": 254,
   "id": "08b75545-6303-41ad-94eb-7e46502858f8",
   "metadata": {},
   "outputs": [],
   "source": [
    "def recommend_to_firebase(item, new_df, similarity):\n",
    "    \"\"\"\n",
    "    Stores recommendations for each menu item in Firebase Realtime Database.\n",
    "    \n",
    "    Parameters:\n",
    "    - item: The menu item for which recommendations are being generated.\n",
    "    - new_df: DataFrame containing menu items and details.\n",
    "    - similarity: Similarity matrix for recommendations.\n",
    "    \"\"\"\n",
    "    # Find the index of the given menu item\n",
    "    df_index = new_df[new_df['Menu'] == item].index[0]\n",
    "    \n",
    "    # Calculate distances and sort by similarity\n",
    "    distances = similarity[df_index]\n",
    "    distances = sorted(list(enumerate(distances)), reverse=True, key=lambda x: x[1])\n",
    "    \n",
    "    # Extract the top 2 recommendations (excluding the item itself)\n",
    "    recommendations = [new_df.iloc[i[0]].Menu for i in distances[1:3]]\n",
    "    \n",
    "    # Prepare data to send to Firebase\n",
    "    data = {\n",
    "        'item': item,\n",
    "        'recommendations': recommendations\n",
    "    }\n",
    "    \n",
    "    # Write to Firebase under the 'recommendations' node\n",
    "    ref = db.reference('recommendations')\n",
    "    ref.child(item).set(data)\n",
    "    print(f\"Recommendations for {item} stored in Firebase: {recommendations}\")"
   ]
  },
  {
   "cell_type": "code",
   "execution_count": 256,
   "id": "cd4f8d4a-8cfb-467c-822c-627d3feda84f",
   "metadata": {},
   "outputs": [
    {
     "name": "stdout",
     "output_type": "stream",
     "text": [
      "Recommendations for Chicken Biryani stored in Firebase: ['Curry', 'Chicken Pulao']\n",
      "Recommendations for Chicken Pulao stored in Firebase: ['Chicken Biryani', 'Pizza']\n",
      "Recommendations for Chowmien stored in Firebase: ['Shawarma', 'Chicken Pulao']\n",
      "Recommendations for Macaroni stored in Firebase: ['Spring Roll', 'Plain Fries']\n",
      "Recommendations for Plain Fries stored in Firebase: ['Mayo Garlic Fries', 'Macaroni']\n",
      "Recommendations for Mayo Garlic Fries stored in Firebase: ['Plain Fries', 'Macaroni']\n",
      "Recommendations for Hotshots stored in Firebase: ['Chicken Wings', 'Zinger Burger']\n",
      "Recommendations for Chicken Wings stored in Firebase: ['Chicken Wings', 'Zinger Burger']\n",
      "Recommendations for Pizza stored in Firebase: ['Kruch Burger', 'Chicken Pulao']\n",
      "Recommendations for Shawarma stored in Firebase: ['Chowmien', 'Kruch Burger']\n",
      "Recommendations for Kruch Burger stored in Firebase: ['Pizza', 'Shawarma']\n",
      "Recommendations for Zinger Burger stored in Firebase: ['Hotshots', 'Chicken Wings']\n",
      "Recommendations for Spring Roll stored in Firebase: ['Macaroni', 'Plain Fries']\n",
      "Recommendations for Curry stored in Firebase: ['Chicken Biryani', 'Zinger Burger']\n",
      "Recommendations for Chicken Tikka Roll stored in Firebase: ['Chicken Samosa', 'Aloo Paratha']\n",
      "Recommendations for Paratha stored in Firebase: ['Aloo Paratha', 'Chicken Samosa']\n",
      "Recommendations for Aloo Paratha stored in Firebase: ['Chicken Samosa', 'Chicken Tikka Roll']\n",
      "Recommendations for Chicken Samosa stored in Firebase: ['Chicken Tikka Roll', 'Aloo Paratha']\n",
      "Recommendations for Seekh Kabab stored in Firebase: ['Aloo Paratha', 'Chicken Samosa']\n",
      "Recommendations for Roti stored in Firebase: ['Chicken Pulao', 'Curry']\n"
     ]
    }
   ],
   "source": [
    "menu_items = new_df['Menu'].tolist()\n",
    "for item in menu_items:\n",
    "    recommend_to_firebase(item, new_df, similarity)\n"
   ]
  },
  {
   "cell_type": "code",
   "execution_count": null,
   "id": "9623bc92-1b60-4be5-b651-2ea83311661e",
   "metadata": {},
   "outputs": [],
   "source": []
  }
 ],
 "metadata": {
  "kernelspec": {
   "display_name": "Python 3 (ipykernel)",
   "language": "python",
   "name": "python3"
  },
  "language_info": {
   "codemirror_mode": {
    "name": "ipython",
    "version": 3
   },
   "file_extension": ".py",
   "mimetype": "text/x-python",
   "name": "python",
   "nbconvert_exporter": "python",
   "pygments_lexer": "ipython3",
   "version": "3.12.4"
  }
 },
 "nbformat": 4,
 "nbformat_minor": 5
}
